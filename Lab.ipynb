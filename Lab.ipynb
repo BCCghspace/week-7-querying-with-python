{
 "cells": [
  {
   "cell_type": "markdown",
   "metadata": {},
   "source": [
    "# Lab 7: Turning Queries into Functions\n",
    "\n",
    "## First, let's setup the database engine like we did last week\n",
    "\n",
    "### Load DB credentials"
   ]
  },
  {
   "cell_type": "code",
   "execution_count": null,
   "metadata": {},
   "outputs": [],
   "source": [
    "import json\n",
    "\n",
    "# TODO: make sure to download credentials from https://canvas.upenn.edu/files/89654914/download?download_frd=1\n",
    "# save them to the base directory for this repo\n",
    "with open(\"pg-credentials.json\") as creds:\n",
    "    creds = json.load(creds)\n",
    "\n",
    "PASSWORD = creds[\"PASSWORD\"]\n",
    "HOST = creds[\"HOST\"]\n",
    "USERNAME = creds[\"USERNAME\"]\n",
    "DATABASE = creds[\"DATABASE\"]\n",
    "PORT = creds[\"PORT\"]"
   ]
  },
  {
   "cell_type": "markdown",
   "metadata": {},
   "source": [
    "### Create DB engine"
   ]
  },
  {
   "cell_type": "code",
   "execution_count": null,
   "metadata": {},
   "outputs": [],
   "source": [
    "from sqlalchemy import create_engine\n",
    "\n",
    "engine = create_engine(f\"postgresql://{USERNAME}:{PASSWORD}@{HOST}:{PORT}/{DATABASE}\")"
   ]
  },
  {
   "cell_type": "code",
   "execution_count": null,
   "metadata": {},
   "outputs": [],
   "source": [
    "# make sure it works\n",
    "\n",
    "engine.execute(\"SELECT 'Hello'\").fetchone()"
   ]
  },
  {
   "cell_type": "markdown",
   "metadata": {},
   "source": [
    "## Review"
   ]
  },
  {
   "cell_type": "markdown",
   "metadata": {},
   "source": [
    "## Review from Lecture\n",
    "\n",
    "* Query templates\n",
    "* Putting a query template into a function for reusable code\n",
    "\n",
    "## 0. Review: Query Templating\n",
    "\n",
    "### Avoid SQL injection\n",
    "\n",
    "![](https://imgs.xkcd.com/comics/exploits_of_a_mom.png)\n",
    "\n",
    "### Let's see how SQLAlchemy templates our queries\n",
    "\n",
    "**Valid Inputs**"
   ]
  },
  {
   "cell_type": "code",
   "execution_count": null,
   "metadata": {},
   "outputs": [],
   "source": [
    "from sqlalchemy.sql import text\n",
    "\n",
    "q = text(\"SELECT name, totaldocks, docksavailable FROM indego_station_status LIMIT :num\")"
   ]
  },
  {
   "cell_type": "code",
   "execution_count": null,
   "metadata": {},
   "outputs": [],
   "source": [
    "str(q.bindparams(num=2).compile(bind=engine, compile_kwargs={\"literal_binds\": True}))"
   ]
  },
  {
   "cell_type": "code",
   "execution_count": null,
   "metadata": {},
   "outputs": [],
   "source": [
    "engine.execute(q, num=2).fetchall()"
   ]
  },
  {
   "cell_type": "markdown",
   "metadata": {},
   "source": [
    "**Invalid Inputs**"
   ]
  },
  {
   "cell_type": "code",
   "execution_count": null,
   "metadata": {},
   "outputs": [],
   "source": [
    "str(q.bindparams(num='2; select * from andys_cookies;').compile(bind=engine, compile_kwargs={\"literal_binds\": True}))"
   ]
  },
  {
   "cell_type": "code",
   "execution_count": null,
   "metadata": {},
   "outputs": [],
   "source": [
    "engine.execute(q, num='2; select * from andys_cookies;').fetchall()"
   ]
  },
  {
   "cell_type": "markdown",
   "metadata": {},
   "source": [
    "Good news :) SQLAlchemy saved us!"
   ]
  },
  {
   "cell_type": "markdown",
   "metadata": {},
   "source": [
    "### If we templated the string using Python string functions..."
   ]
  },
  {
   "cell_type": "code",
   "execution_count": null,
   "metadata": {},
   "outputs": [],
   "source": [
    "qtext = \"SELECT * FROM indego_station_status LIMIT {num}\"\n",
    "\n",
    "num = '2; SELECT * FROM andys_cookies;'\n",
    "print(qtext.format(num=num))"
   ]
  },
  {
   "cell_type": "markdown",
   "metadata": {},
   "source": [
    "**Uh oh**. Notice that another query was 'injected' into our templated query without proper quotes.\n",
    "\n",
    "Let's execute it to see what happens..."
   ]
  },
  {
   "cell_type": "code",
   "execution_count": null,
   "metadata": {},
   "outputs": [],
   "source": [
    "engine.execute(qtext.format(num=num)).fetchall()"
   ]
  },
  {
   "cell_type": "markdown",
   "metadata": {},
   "source": [
    "My cookie table was hacked!"
   ]
  },
  {
   "cell_type": "markdown",
   "metadata": {},
   "source": [
    "### Aside... creating a table from nothing\n",
    "\n",
    "We'll discuss operations like this in the coming weeks, but I created that cookie table with this query:\n",
    "\n",
    "```SQL\n",
    "CREATE TABLE andys_cookies AS\n",
    "SELECT cookie_type, quantity \n",
    "FROM (\n",
    "\tVALUES ('peanut butter', 10), \n",
    "\t       ('pecan', 20),\n",
    "\t       ('chocolate fudge', 5)\n",
    ") AS c(cookie_type, quantity)\n",
    "```"
   ]
  },
  {
   "cell_type": "markdown",
   "metadata": {},
   "source": [
    "## 1. More Templating Asking Questions"
   ]
  },
  {
   "cell_type": "code",
   "execution_count": null,
   "metadata": {},
   "outputs": [],
   "source": [
    "# NOTE: the dataset originally had capitals in the names, so we need to quote the column names here\n",
    "def fetch_five_vacant_buildings():\n",
    "    query = text(\"\"\"\n",
    "        SELECT \"ADDRESS\", \"BLDG_DESC\", \"ZIPCODE\", \"BUILD_RANK\"\n",
    "        FROM vacant_buildings\n",
    "        LIMIT 5\n",
    "    \"\"\")\n",
    "    return engine.execute(query).fetchall()"
   ]
  },
  {
   "cell_type": "code",
   "execution_count": null,
   "metadata": {},
   "outputs": [],
   "source": [
    "fetch_five_vacant_buildings()"
   ]
  },
  {
   "cell_type": "markdown",
   "metadata": {},
   "source": [
    "### 1.1 What are the five closest vacant buildings to Meyerson Hall?\n",
    "\n",
    "Meyerson Hall has a lat/lng of `(39.952263,-75.1927827)`"
   ]
  },
  {
   "cell_type": "code",
   "execution_count": null,
   "metadata": {},
   "outputs": [],
   "source": [
    "def vacants_close_to_meyerson_hall(num_buildings=5):\n",
    "    query = text(\"\"\"\n",
    "        -- enter your query here\n",
    "    \"\"\")\n",
    "    return engine.execute(query).fetchall()"
   ]
  },
  {
   "cell_type": "markdown",
   "metadata": {},
   "source": [
    "### 1.2 What are the largest vacant buildings by zip code?"
   ]
  },
  {
   "cell_type": "code",
   "execution_count": null,
   "metadata": {},
   "outputs": [],
   "source": [
    "# fill in your code here"
   ]
  },
  {
   "cell_type": "markdown",
   "metadata": {},
   "source": [
    "## 2. Give all vacant buildings in a neighborhood\n",
    "\n",
    "### 2.1 Data"
   ]
  },
  {
   "cell_type": "markdown",
   "metadata": {},
   "source": [
    "We have a neighborhood table"
   ]
  },
  {
   "cell_type": "code",
   "execution_count": null,
   "metadata": {},
   "outputs": [],
   "source": [
    "resp = engine.execute(\"SELECT neighborhood_name, ST_AsText(geom)  FROM philadelphia_neighborhoods LIMIT 1\").fetchall()\n",
    "resp"
   ]
  },
  {
   "cell_type": "markdown",
   "metadata": {},
   "source": [
    "### 2.2 Build a function that takes a neighborhood name and returns all vacant buildings in it"
   ]
  },
  {
   "cell_type": "code",
   "execution_count": null,
   "metadata": {},
   "outputs": [],
   "source": [
    "def vacant_buildings_by_neighborhood(name):\n",
    "    # write your function here\n",
    "    pass"
   ]
  },
  {
   "cell_type": "markdown",
   "metadata": {},
   "source": [
    "### 2.3 Let's Validate Inputs!\n",
    "\n",
    "Validating inputs helps guide users if they make a mistake."
   ]
  },
  {
   "cell_type": "code",
   "execution_count": null,
   "metadata": {},
   "outputs": [],
   "source": [
    "def is_valid_neighborhood_name(input_name):\n",
    "    query = text(\"\"\"\n",
    "        SELECT neighborhood_name \n",
    "        FROM philadelphia_neighborhoods\n",
    "        WHERE neighborhood_name = :input_name\n",
    "    \"\"\")\n",
    "\n",
    "    resp = engine.execute(query, input_name=input_name)\n",
    "    if resp.rowcount > 0:\n",
    "        return True\n",
    "    return False"
   ]
  },
  {
   "cell_type": "code",
   "execution_count": null,
   "metadata": {},
   "outputs": [],
   "source": [
    "is_valid_neighborhood_name(\"Andy\")"
   ]
  },
  {
   "cell_type": "code",
   "execution_count": null,
   "metadata": {},
   "outputs": [],
   "source": [
    "is_valid_neighborhood_name(\"Strawberry Mansion\")"
   ]
  },
  {
   "cell_type": "code",
   "execution_count": null,
   "metadata": {},
   "outputs": [],
   "source": [
    "def get_vacant_buildings(neighborhood_name):\n",
    "    if not is_valid_neighborhood_name(neighborhood_name):\n",
    "        raise ValueError(f\"'{neighborhood_name}' is not a valid neighborhood name\")\n",
    "    result = vacant_buildings_by_neighborhood(neighborhood_name)\n",
    "    return result"
   ]
  },
  {
   "cell_type": "code",
   "execution_count": null,
   "metadata": {},
   "outputs": [],
   "source": [
    "get_vacant_buildings(\"Andy\")"
   ]
  },
  {
   "cell_type": "markdown",
   "metadata": {},
   "source": [
    "### 2.4 But what are the valid names? Let's print them in the error message too.\n",
    "\n",
    "Write a function to return the names of the neighborhoods"
   ]
  },
  {
   "cell_type": "code",
   "execution_count": null,
   "metadata": {},
   "outputs": [],
   "source": [
    "def list_neighborhood_names():\n",
    "    \"\"\"Retrieve all neighborhood names, return as a list\"\"\"\n",
    "    query = text(\"\"\"\n",
    "    --- put your query here\n",
    "    \"\"\")\n",
    "    # place your code here"
   ]
  },
  {
   "cell_type": "markdown",
   "metadata": {},
   "source": [
    "Return should look like: \n",
    "```\n",
    "['ACADEMY_GARDENS',\n",
    " 'AIRPORT',\n",
    " 'ALLEGHENY_WEST',\n",
    " 'ANDORRA',\n",
    " 'ASTON_WOODBRIDGE',\n",
    " 'BARTRAM_VILLAGE',\n",
    " ...\n",
    "```"
   ]
  },
  {
   "cell_type": "markdown",
   "metadata": {},
   "source": [
    "### Now we can use the results of the list function to give users some options"
   ]
  },
  {
   "cell_type": "code",
   "execution_count": null,
   "metadata": {},
   "outputs": [],
   "source": [
    "def get_vacant_buildings(neighborhood_name):\n",
    "    if not is_valid_neighborhood_name(neighborhood_name):\n",
    "        neighborhood_list = list_neighborhood_names()\n",
    "        raise ValueError(f\"'{neighborhood_name}' is not a valid neighborhood name. Choose one of {neighborhood_list}\")\n",
    "    pass"
   ]
  },
  {
   "cell_type": "code",
   "execution_count": null,
   "metadata": {},
   "outputs": [],
   "source": [
    "get_vacant_buildings(\"Andy\")"
   ]
  },
  {
   "cell_type": "markdown",
   "metadata": {},
   "source": [
    "## 3. Fetching data from BigQuery"
   ]
  },
  {
   "cell_type": "code",
   "execution_count": null,
   "metadata": {},
   "outputs": [],
   "source": [
    "from google.cloud import bigquery\n",
    "import geopandas as gpd\n",
    "from shapely import wkt\n",
    "\n",
    "# NOTE: you need to setup a service account (or use another auth method)\n",
    "bqclient = bigquery.Client.from_service_account_json(\"MUSA-509-3337814ad805.json\")"
   ]
  },
  {
   "cell_type": "code",
   "execution_count": null,
   "metadata": {},
   "outputs": [],
   "source": [
    "from shapely import wkt\n",
    "\n",
    "query = f\"\"\"\n",
    "SELECT (select value from unnest(all_tags) WHERE key = 'amenity') as amenity_type,\n",
    "       COUNT(*) as num_amenities\n",
    "  FROM `bigquery-public-data.geo_openstreetmap.planet_features`\n",
    " WHERE 'amenity' IN (SELECT key FROM UNNEST(all_tags))\n",
    " AND ST_INTERSECTSBOX(ST_Centroid(geometry), -75.280298,39.867005,-74.955831,40.137959)\n",
    "GROUP BY 1\n",
    "ORDER BY 2 DESC\n",
    "\"\"\"\n",
    "response = bqclient.query(query)\n",
    "\n",
    "# print the rows\n",
    "for row in response:\n",
    "    print(row['amenity_type'].ljust(17), row['num_amenities'])"
   ]
  },
  {
   "cell_type": "markdown",
   "metadata": {},
   "source": [
    "* [Parameterize queries](https://cloud.google.com/bigquery/docs/parameterized-queries) to avoid SQL Injection\n",
    "\n",
    "BigQuery uses `@variable_name` notation for templating/parametrizing literals (strings, numbers, but not tables) in queries.\n",
    "\n",
    "It makes use of the `QueryJobConfig` object in Python: <https://googleapis.dev/python/bigquery/latest/generated/google.cloud.bigquery.job.QueryJobConfig.html>"
   ]
  },
  {
   "cell_type": "code",
   "execution_count": null,
   "metadata": {},
   "outputs": [],
   "source": [
    "def get_nearest_cafes(lng, lat, distance, amenity_type=\"cafe\"):\n",
    "    job_config = bigquery.QueryJobConfig(\n",
    "        query_parameters=[\n",
    "            bigquery.ScalarQueryParameter(\"poi_category\", \"STRING\", amenity_type),\n",
    "            bigquery.ScalarQueryParameter(\"lng\", \"FLOAT\", lng),\n",
    "            bigquery.ScalarQueryParameter(\"lat\", \"FLOAT\", lat),\n",
    "            bigquery.ScalarQueryParameter(\"distance\", \"FLOAT\", distance)\n",
    "        ]\n",
    "    )\n",
    "    query = f\"\"\"\n",
    "        SELECT (select value from unnest(all_tags) WHERE key = 'name') as amenity_name, \n",
    "               (select value from unnest(all_tags) WHERE key = 'amenity') as amenity_type,\n",
    "               (select value from unnest(all_tags) WHERE key = 'addr:street') as address,\n",
    "               (select value from unnest(all_tags) WHERE key = 'phone') as phone_number,\n",
    "               CAST(round(ST_Distance(ST_GeogPoint(@lng, @lat), ST_Centroid(geometry))) AS int64) as distance_away_meters,\n",
    "               geometry\n",
    "          FROM `bigquery-public-data.geo_openstreetmap.planet_features`\n",
    "         WHERE ('amenity', @poi_category) IN (SELECT (key, value) FROM UNNEST(all_tags))\n",
    "         and ST_DWithin(ST_GeogPoint(@lng, @lat), ST_Centroid(geometry), @distance)\n",
    "         ORDER BY distance_away_meters ASC\n",
    "    \"\"\"\n",
    "    response = bqclient.query(query, job_config=job_config)\n",
    "    return response"
   ]
  },
  {
   "cell_type": "code",
   "execution_count": null,
   "metadata": {},
   "outputs": [],
   "source": [
    "meyerson_lnglat = (-75.1927795, 39.9522139)\n",
    "response = get_nearest_cafes(meyerson_lnglat[0], meyerson_lnglat[1], 1000, 'cafe')"
   ]
  },
  {
   "cell_type": "code",
   "execution_count": null,
   "metadata": {},
   "outputs": [],
   "source": [
    "for row in response:\n",
    "    description = f\"{row['amenity_name']} is {row['distance_away_meters']} meters away\"\n",
    "    if row['address'] is not None:\n",
    "        description = description + f\" on {row['address']}\"\n",
    "    print(description + '\\n')"
   ]
  },
  {
   "cell_type": "code",
   "execution_count": null,
   "metadata": {},
   "outputs": [],
   "source": [
    "from cartoframes.viz import Layer\n",
    "\n",
    "cafes = gpd.GeoDataFrame(response.to_dataframe(), geometry=[wkt.loads(row.geometry).centroid for row in response], crs=\"epsg:4326\")\n",
    "\n",
    "Layer(cafes)"
   ]
  },
  {
   "cell_type": "markdown",
   "metadata": {},
   "source": [
    "### Add input validation"
   ]
  },
  {
   "cell_type": "code",
   "execution_count": null,
   "metadata": {},
   "outputs": [],
   "source": [
    "query = f\"\"\"\n",
    "SELECT DISTINCT (select value from unnest(all_tags) WHERE key = 'amenity') as amenity_type\n",
    "  FROM `bigquery-public-data.geo_openstreetmap.planet_features`\n",
    " WHERE 'amenity' IN (SELECT key FROM UNNEST(all_tags))\n",
    " AND ST_INTERSECTSBOX(ST_Centroid(geometry), -75.280298,39.867005,-74.955831,40.137959)\n",
    "\"\"\"\n",
    "response = bqclient.query(query)"
   ]
  },
  {
   "cell_type": "code",
   "execution_count": null,
   "metadata": {},
   "outputs": [],
   "source": [
    "poi_valid_set = set([row['amenity_type'] for row in response])\n",
    "poi_valid_set"
   ]
  },
  {
   "cell_type": "code",
   "execution_count": null,
   "metadata": {},
   "outputs": [],
   "source": [
    "def validate_poi_input(category):\n",
    "    if category not in poi_valid_set:\n",
    "        raise ValueError(f\"`{category}` is not valid entry. Try one of {', '.join(poi_valid_set)}\")"
   ]
  },
  {
   "cell_type": "code",
   "execution_count": null,
   "metadata": {},
   "outputs": [],
   "source": [
    "validate_poi_input('hi')"
   ]
  },
  {
   "cell_type": "code",
   "execution_count": null,
   "metadata": {},
   "outputs": [],
   "source": [
    "def get_nearest_cafes(lng, lat, distance, amenity_type=\"cafe\"):\n",
    "    validate_poi_input(amenity_type)\n",
    "    job_config = bigquery.QueryJobConfig(\n",
    "        query_parameters=[\n",
    "            bigquery.ScalarQueryParameter(\"poi_category\", \"STRING\", amenity_type),\n",
    "            bigquery.ScalarQueryParameter(\"lng\", \"FLOAT\", lng),\n",
    "            bigquery.ScalarQueryParameter(\"lat\", \"FLOAT\", lat),\n",
    "            bigquery.ScalarQueryParameter(\"distance\", \"FLOAT\", distance)\n",
    "        ]\n",
    "    )\n",
    "    query = f\"\"\"\n",
    "        SELECT (select value from unnest(all_tags) WHERE key = 'name') as amenity_name, \n",
    "               (select value from unnest(all_tags) WHERE key = 'amenity') as amenity_type,\n",
    "               (select value from unnest(all_tags) WHERE key = 'addr:street') as address,\n",
    "               (select value from unnest(all_tags) WHERE key = 'phone') as phone_number,\n",
    "               CAST(round(ST_Distance(ST_GeogPoint(@lng, @lat), ST_Centroid(geometry))) AS int64) as distance_away_meters,\n",
    "               geometry\n",
    "          FROM `bigquery-public-data.geo_openstreetmap.planet_features`\n",
    "         WHERE ('amenity', @poi_category) IN (SELECT (key, value) FROM UNNEST(all_tags))\n",
    "         and ST_DWithin(ST_GeogPoint(@lng, @lat), ST_Centroid(geometry), @distance)\n",
    "         ORDER BY distance_away_meters ASC\n",
    "    \"\"\"\n",
    "    response = bqclient.query(query, job_config=job_config)\n",
    "    return response"
   ]
  },
  {
   "cell_type": "code",
   "execution_count": null,
   "metadata": {},
   "outputs": [],
   "source": [
    "get_nearest_cafes(meyerson_latlng[1], meyerson_latlng[0], 1000, 'bicycle_repair_station').to_dataframe()"
   ]
  },
  {
   "cell_type": "markdown",
   "metadata": {},
   "source": [
    "## OpenStreetMap Editing\n",
    "\n",
    "Are you interested in OSM for your project? There are many ways to get OSM data, including semi-yearly updates on BigQuery. There are daily extracts for regions of the world at [GeoFabrik](https://download.geofabrik.de/). The shapefiles can be big and hard to get down to the region of interest.\n",
    "\n",
    "### Is OSM lacking in a region you want? Start adding your house, your parents house, etc.\n",
    "\n",
    "<https://www.openstreetmap.org/#map=17/39.95484/-75.20505>"
   ]
  }
 ],
 "metadata": {
  "kernelspec": {
   "display_name": "Python 3",
   "language": "python",
   "name": "python3"
  },
  "language_info": {
   "codemirror_mode": {
    "name": "ipython",
    "version": 3
   },
   "file_extension": ".py",
   "mimetype": "text/x-python",
   "name": "python",
   "nbconvert_exporter": "python",
   "pygments_lexer": "ipython3",
   "version": "3.8.6"
  }
 },
 "nbformat": 4,
 "nbformat_minor": 4
}
